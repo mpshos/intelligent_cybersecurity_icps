{
 "cells": [
  {
   "cell_type": "markdown",
   "metadata": {
    "colab_type": "text",
    "id": "1BHdcNOXGq9F"
   },
   "source": [
    "# Neural networks with PyTorch\n",
    "\n",
    "Deep learning networks tend to be massive with dozens or hundreds of layers, that's where the term \"deep\" comes from. You can build one of these deep networks using only weight matrices as we did in the previous notebook, but in general it's very cumbersome and difficult to implement. PyTorch has a nice module `nn` that provides a nice way to efficiently build large neural networks."
   ]
  },
  {
   "cell_type": "code",
   "execution_count": 0,
   "metadata": {
    "colab": {},
    "colab_type": "code",
    "id": "zGTOwG6nGq9K"
   },
   "outputs": [],
   "source": [
    "# Import necessary packages\n",
    "\n",
    "%matplotlib inline\n",
    "%config InlineBackend.figure_format = 'retina'\n",
    "\n",
    "import numpy as np\n",
    "import torch\n",
    "\n",
    "import helper\n",
    "\n",
    "import matplotlib.pyplot as plt"
   ]
  },
  {
   "cell_type": "markdown",
   "metadata": {
    "colab_type": "text",
    "id": "RpnPYNPvGq9Z"
   },
   "source": [
    "\n",
    "Now we're going to build a larger network that can solve a (formerly) difficult problem, identifying text in an image. Here we'll use the MNIST dataset which consists of greyscale handwritten digits. Each image is 28x28 pixels, you can see a sample below\n",
    "\n",
    "<img src='assets/mnist.png'>\n",
    "\n",
    "Our goal is to build a neural network that can take one of these images and predict the digit in the image.\n",
    "\n",
    "First up, we need to get our dataset. This is provided through the `torchvision` package. The code below will download the MNIST dataset, then create training and test datasets for us. Don't worry too much about the details here, you'll learn more about this later."
   ]
  },
  {
   "cell_type": "code",
   "execution_count": 0,
   "metadata": {
    "colab": {},
    "colab_type": "code",
    "id": "OYacK4eQGq9b"
   },
   "outputs": [],
   "source": [
    "### Run this cell\n",
    "\n",
    "from torchvision import datasets, transforms\n",
    "\n",
    "# Define a transform to normalize the data\n",
    "transform = transforms.Compose([transforms.ToTensor(),\n",
    "                              transforms.Normalize((0.5,), (0.5,)),\n",
    "                              ])\n",
    "\n",
    "# Download and load the training data\n",
    "trainset = datasets.MNIST('~/.pytorch/MNIST_data/', download=True, train=True, transform=transform)\n",
    "trainloader = torch.utils.data.DataLoader(trainset, batch_size=64, shuffle=True)"
   ]
  },
  {
   "cell_type": "markdown",
   "metadata": {
    "colab_type": "text",
    "id": "sqswDI8AGq9o"
   },
   "source": [
    "We have the training data loaded into `trainloader` and we make that an iterator with `iter(trainloader)`. Later, we'll use this to loop through the dataset for training, like\n",
    "\n",
    "```python\n",
    "for image, label in trainloader:\n",
    "    ## do things with images and labels\n",
    "```\n",
    "\n",
    "You'll notice I created the `trainloader` with a batch size of 64, and `shuffle=True`. The batch size is the number of images we get in one iteration from the data loader and pass through our network, often called a *batch*. And `shuffle=True` tells it to shuffle the dataset every time we start going through the data loader again. But here I'm just grabbing the first batch so we can check out the data. We can see below that `images` is just a tensor with size `(64, 1, 28, 28)`. So, 64 images per batch, 1 color channel, and 28x28 images."
   ]
  },
  {
   "cell_type": "code",
   "execution_count": 10,
   "metadata": {
    "colab": {
     "base_uri": "https://localhost:8080/",
     "height": 69
    },
    "colab_type": "code",
    "executionInfo": {
     "elapsed": 283,
     "status": "ok",
     "timestamp": 1559864759776,
     "user": {
      "displayName": "Michael S",
      "photoUrl": "",
      "userId": "16946586469848964976"
     },
     "user_tz": 300
    },
    "id": "0__-EqZBGq9r",
    "outputId": "98212c0e-e0e3-4fc1-f120-d1284d3c55f1"
   },
   "outputs": [
    {
     "name": "stdout",
     "output_type": "stream",
     "text": [
      "<class 'torch.Tensor'>\n",
      "torch.Size([64, 1, 28, 28])\n",
      "torch.Size([64])\n"
     ]
    }
   ],
   "source": [
    "dataiter = iter(trainloader)\n",
    "images, labels = dataiter.next()\n",
    "print(type(images))\n",
    "print(images.shape)\n",
    "print(labels.shape)"
   ]
  },
  {
   "cell_type": "markdown",
   "metadata": {
    "colab_type": "text",
    "id": "5tACE8QPGq95"
   },
   "source": [
    "This is what one of the images looks like. "
   ]
  },
  {
   "cell_type": "code",
   "execution_count": 5,
   "metadata": {
    "colab": {
     "base_uri": "https://localhost:8080/",
     "height": 267
    },
    "colab_type": "code",
    "executionInfo": {
     "elapsed": 480,
     "status": "ok",
     "timestamp": 1559863485520,
     "user": {
      "displayName": "Michael S",
      "photoUrl": "",
      "userId": "16946586469848964976"
     },
     "user_tz": 300
    },
    "id": "nV1AGhvNGq97",
    "outputId": "879ef719-a7d8-443f-c57b-d6e68091e2f8"
   },
   "outputs": [
    {
     "data": {
      "image/png": "[encoded data removed]",
      "text/plain": [
       "<Figure size 432x288 with 1 Axes>"
      ]
     },
     "metadata": {
      "image/png": {
       "height": 250,
       "width": 253
      },
      "tags": []
     },
     "output_type": "display_data"
    }
   ],
   "source": [
    "plt.imshow(images[1].numpy().squeeze(), cmap='Greys_r');"
   ]
  },
  {
   "cell_type": "markdown",
   "metadata": {
    "colab_type": "text",
    "id": "AxTT-YkJGq-I"
   },
   "source": [
    "First, let's try to build a simple network for this dataset using weight matrices and matrix multiplications. Then, we'll see how to do it using PyTorch's `nn` module which provides a much more convenient and powerful method for defining network architectures.\n",
    "\n",
    "The networks you've seen so far are called *fully-connected* or *dense* networks. Each unit in one layer is connected to each unit in the next layer. In fully-connected networks, the input to each layer must be a one-dimensional vector (which can be stacked into a 2D tensor as a batch of multiple examples). However, our images are 28x28 2D tensors, so we need to convert them into 1D vectors. Thinking about sizes, we need to convert the batch of images with shape `(64, 1, 28, 28)` to a have a shape of `(64, 784)`, 784 is 28 times 28. This is typically called *flattening*, we flattened the 2D images into 1D vectors.\n",
    "\n",
    "Previously you built a network with one output unit. Here we need 10 output units, one for each digit. We want our network to predict the digit shown in an image, so what we'll do is calculate probabilities that the image is of any one digit or class. This ends up being a discrete probability distribution over the classes (digits) that tells us the most likely class for the image. That means we need 10 output units for the 10 classes (digits). We'll see how to convert the network output into a probability distribution next.\n",
    "\n",
    "> **Exercise:** Flatten the batch of images `images`. Then build a multi-layer network with 784 input units, 256 hidden units, and 10 output units using random tensors for the weights and biases. For now, use a sigmoid activation for the hidden layer. Leave the output layer without an activation, we'll add one that gives us a probability distribution next."
   ]
  },
  {
   "cell_type": "code",
   "execution_count": 14,
   "metadata": {
    "colab": {
     "base_uri": "https://localhost:8080/",
     "height": 34
    },
    "colab_type": "code",
    "executionInfo": {
     "elapsed": 235,
     "status": "ok",
     "timestamp": 1559864853571,
     "user": {
      "displayName": "Michael S",
      "photoUrl": "",
      "userId": "16946586469848964976"
     },
     "user_tz": 300
    },
    "id": "vRv46bhsMBmF",
    "outputId": "3adbdbe7-414a-437e-c397-62556066a767"
   },
   "outputs": [
    {
     "data": {
      "text/plain": [
       "torch.Size([64, 784])"
      ]
     },
     "execution_count": 14,
     "metadata": {
      "tags": []
     },
     "output_type": "execute_result"
    }
   ],
   "source": [
    "images.view(64, 784).shape\n"
   ]
  },
  {
   "cell_type": "code",
   "execution_count": 20,
   "metadata": {
    "colab": {
     "base_uri": "https://localhost:8080/",
     "height": 2240
    },
    "colab_type": "code",
    "executionInfo": {
     "elapsed": 204,
     "status": "ok",
     "timestamp": 1559865019980,
     "user": {
      "displayName": "Michael S",
      "photoUrl": "",
      "userId": "16946586469848964976"
     },
     "user_tz": 300
    },
    "id": "Jh9ZJVqqGq-K",
    "outputId": "dfc3abd7-3544-45ed-e2a3-c3f30d6867f1"
   },
   "outputs": [
    {
     "name": "stdout",
     "output_type": "stream",
     "text": [
      "tensor([[1.3584e-07, 1.9889e-02, 9.7203e-01, 8.3116e-01, 3.2744e-01, 1.0000e+00,\n",
      "         9.5122e-01, 2.4869e-05, 8.5562e-06, 1.5153e-01],\n",
      "        [2.2442e-06, 2.0455e-08, 1.8905e-03, 1.0421e-01, 1.0000e+00, 1.0000e+00,\n",
      "         2.4232e-01, 9.9999e-01, 6.4306e-06, 1.3284e-03],\n",
      "        [8.2703e-09, 5.5469e-01, 1.4476e-01, 2.4462e-05, 9.9937e-01, 7.7520e-01,\n",
      "         3.5232e-05, 1.2364e-02, 7.5266e-05, 2.4048e-03],\n",
      "        [3.2701e-05, 6.2516e-08, 6.2228e-08, 3.0188e-03, 1.0000e+00, 1.0000e+00,\n",
      "         7.6938e-01, 2.1473e-01, 8.6339e-07, 1.6318e-03],\n",
      "        [3.0356e-10, 4.8627e-01, 1.5379e-07, 3.4872e-10, 9.9761e-01, 1.0000e+00,\n",
      "         3.8050e-05, 9.9935e-01, 8.7450e-05, 5.2477e-07],\n",
      "        [2.5670e-04, 2.8761e-04, 1.0767e-03, 5.6985e-06, 8.9066e-05, 9.9960e-01,\n",
      "         6.3356e-02, 7.4571e-01, 4.7771e-07, 4.0982e-03],\n",
      "        [9.1687e-09, 2.7271e-01, 1.0131e-01, 4.7174e-04, 9.9999e-01, 1.0000e+00,\n",
      "         1.7574e-01, 9.9533e-01, 3.8038e-05, 7.2600e-06],\n",
      "        [9.1198e-06, 3.5538e-06, 8.3752e-01, 5.1102e-01, 9.9790e-01, 1.0000e+00,\n",
      "         9.9984e-01, 8.1185e-01, 4.5728e-05, 1.6556e-01],\n",
      "        [8.5326e-06, 2.2759e-04, 9.6841e-01, 9.0193e-06, 9.8221e-01, 9.9996e-01,\n",
      "         4.1046e-04, 9.2801e-01, 2.6234e-05, 9.9999e-01],\n",
      "        [4.0773e-11, 1.7095e-03, 9.7686e-01, 8.6273e-07, 9.2320e-01, 9.9995e-01,\n",
      "         1.0068e-04, 9.8759e-01, 9.7768e-07, 9.5444e-01],\n",
      "        [1.6123e-08, 4.8069e-04, 8.1918e-01, 3.2827e-06, 9.9555e-01, 9.9999e-01,\n",
      "         5.8472e-03, 9.8731e-01, 6.4392e-06, 9.2350e-01],\n",
      "        [4.8186e-10, 5.3821e-05, 6.2928e-05, 7.1932e-05, 9.9992e-01, 9.7993e-01,\n",
      "         8.3737e-01, 9.9957e-01, 1.2812e-02, 7.1087e-04],\n",
      "        [6.9533e-06, 2.5536e-04, 5.3076e-04, 6.1107e-04, 9.9990e-01, 9.9987e-01,\n",
      "         3.2234e-04, 9.8955e-01, 3.2274e-08, 1.2863e-05],\n",
      "        [9.8649e-06, 6.3238e-01, 9.4707e-03, 1.4690e-01, 1.0000e+00, 9.9999e-01,\n",
      "         8.2685e-04, 6.5215e-01, 7.0488e-09, 1.2287e-02],\n",
      "        [4.2069e-04, 2.0845e-06, 8.8797e-01, 7.2850e-03, 8.9908e-01, 9.9943e-01,\n",
      "         6.3270e-02, 9.8973e-03, 4.4694e-07, 1.0090e-07],\n",
      "        [3.4389e-06, 9.2509e-01, 9.9998e-01, 1.5670e-05, 2.8593e-01, 9.8443e-01,\n",
      "         1.2010e-04, 1.0921e-03, 2.0895e-05, 5.3613e-03],\n",
      "        [1.5899e-11, 8.5685e-01, 9.9999e-01, 1.7705e-01, 8.3435e-01, 9.9995e-01,\n",
      "         1.2277e-05, 1.0305e-03, 5.0041e-04, 9.4503e-01],\n",
      "        [2.4317e-04, 2.3160e-01, 1.5357e-03, 5.8853e-05, 9.8696e-01, 9.9999e-01,\n",
      "         2.0455e-05, 1.9209e-01, 5.2675e-10, 9.9699e-01],\n",
      "        [5.0937e-06, 5.1763e-04, 1.5940e-02, 8.8262e-01, 9.9999e-01, 9.2355e-01,\n",
      "         1.6707e-05, 1.8179e-01, 3.8275e-05, 4.8466e-02],\n",
      "        [2.0329e-05, 4.8854e-05, 5.2680e-02, 1.0759e-07, 9.9000e-01, 9.9929e-01,\n",
      "         1.5723e-01, 9.9756e-01, 1.3316e-07, 1.7349e-04],\n",
      "        [9.8362e-09, 1.3023e-05, 1.3033e-01, 3.9832e-03, 9.9997e-01, 9.9999e-01,\n",
      "         1.6121e-05, 1.0751e-01, 1.0762e-05, 9.1905e-01],\n",
      "        [2.0164e-14, 9.8233e-01, 9.9352e-01, 1.9185e-01, 9.9964e-01, 9.9069e-01,\n",
      "         4.3091e-05, 2.9978e-04, 2.6171e-07, 9.9785e-01],\n",
      "        [7.2353e-05, 1.3396e-02, 3.3769e-03, 9.2389e-05, 9.9428e-01, 9.9997e-01,\n",
      "         1.3805e-06, 8.5412e-03, 1.1753e-08, 1.9093e-01],\n",
      "        [3.0790e-04, 3.6227e-03, 8.6827e-01, 5.6108e-04, 9.9622e-01, 9.9994e-01,\n",
      "         9.9952e-01, 9.9636e-01, 6.7818e-08, 1.5706e-01],\n",
      "        [3.3444e-03, 7.4886e-05, 9.2239e-01, 2.3487e-04, 9.5937e-01, 9.9990e-01,\n",
      "         1.4913e-02, 9.9958e-01, 1.0353e-02, 3.3277e-02],\n",
      "        [9.7276e-10, 6.7160e-03, 3.3203e-05, 8.2281e-03, 8.6821e-01, 9.9549e-01,\n",
      "         7.6207e-01, 9.9999e-01, 4.2430e-05, 6.0323e-01],\n",
      "        [4.0855e-07, 9.8231e-01, 3.5841e-02, 1.4145e-05, 4.7276e-03, 9.8526e-01,\n",
      "         2.0155e-03, 8.2676e-01, 4.2224e-06, 6.4507e-01],\n",
      "        [5.7789e-07, 2.1404e-03, 8.2770e-03, 1.1640e-07, 9.9993e-01, 9.9999e-01,\n",
      "         3.6808e-02, 9.8894e-01, 2.5824e-06, 9.9152e-01],\n",
      "        [2.1009e-06, 4.9196e-04, 9.0352e-03, 2.1264e-07, 4.4459e-01, 9.9972e-01,\n",
      "         6.4417e-06, 1.0000e+00, 1.2830e-10, 9.9108e-01],\n",
      "        [1.0815e-10, 1.7668e-03, 6.6731e-01, 3.3075e-09, 9.9975e-01, 1.0000e+00,\n",
      "         9.0072e-01, 9.9967e-01, 8.8681e-05, 5.5672e-02],\n",
      "        [7.9479e-09, 3.2202e-02, 1.1162e-01, 4.5702e-05, 9.9900e-01, 9.9991e-01,\n",
      "         1.5935e-01, 9.9996e-01, 5.8440e-02, 1.9005e-03],\n",
      "        [7.4417e-08, 5.6725e-06, 1.2003e-02, 3.0990e-02, 9.6811e-01, 9.9965e-01,\n",
      "         3.4618e-01, 9.9995e-01, 1.4167e-07, 9.9165e-01],\n",
      "        [1.3572e-05, 7.3114e-04, 9.9957e-01, 5.5104e-05, 8.8841e-01, 9.9114e-01,\n",
      "         8.5681e-04, 3.9755e-01, 1.9481e-04, 9.9998e-01],\n",
      "        [4.1324e-09, 1.1459e-01, 4.7862e-04, 2.7286e-07, 9.8748e-01, 9.9999e-01,\n",
      "         2.5523e-03, 2.2774e-01, 2.1387e-09, 9.9734e-01],\n",
      "        [3.0663e-08, 9.9993e-01, 1.0279e-05, 1.7998e-04, 9.9986e-01, 8.7161e-01,\n",
      "         3.7792e-05, 8.5248e-01, 1.8838e-03, 2.6130e-02],\n",
      "        [9.1395e-06, 1.8489e-03, 9.7117e-01, 1.4977e-01, 9.9963e-01, 9.9998e-01,\n",
      "         2.5579e-01, 1.5315e-01, 2.3342e-07, 8.1677e-03],\n",
      "        [1.1382e-09, 4.5164e-07, 2.1400e-01, 3.7604e-05, 9.9832e-01, 9.9998e-01,\n",
      "         7.0307e-01, 9.9753e-01, 5.7715e-10, 9.6592e-04],\n",
      "        [6.1610e-10, 6.0541e-02, 2.1893e-03, 2.7341e-06, 9.9985e-01, 9.9854e-01,\n",
      "         3.3678e-04, 9.7033e-01, 5.9306e-05, 9.9897e-01],\n",
      "        [1.1398e-07, 2.4866e-04, 6.1345e-03, 1.4006e-06, 9.9081e-01, 9.9987e-01,\n",
      "         2.0906e-05, 9.5998e-01, 2.7118e-09, 1.1624e-01],\n",
      "        [1.1025e-05, 8.6709e-04, 1.7595e-06, 5.2696e-04, 9.9755e-01, 1.0000e+00,\n",
      "         4.6119e-03, 9.9855e-01, 3.4963e-07, 8.0946e-01],\n",
      "        [1.1526e-08, 2.8059e-02, 3.8884e-01, 5.7316e-10, 3.8570e-02, 2.0507e-01,\n",
      "         3.4706e-02, 9.4921e-01, 5.3896e-04, 1.5943e-05],\n",
      "        [9.0331e-07, 3.7496e-04, 3.2707e-04, 1.5387e-03, 9.9976e-01, 9.9999e-01,\n",
      "         2.5338e-01, 9.6820e-01, 4.7553e-06, 6.9903e-01],\n",
      "        [6.7348e-11, 1.2098e-01, 9.9366e-01, 7.7758e-03, 1.0000e+00, 9.9895e-01,\n",
      "         9.9512e-01, 9.9990e-01, 1.7584e-01, 7.1721e-01],\n",
      "        [4.5692e-07, 3.1275e-02, 8.6493e-01, 2.0741e-05, 1.0000e+00, 9.9986e-01,\n",
      "         1.6605e-03, 2.6097e-02, 9.9842e-06, 4.9459e-03],\n",
      "        [1.8600e-05, 1.5848e-07, 1.0512e-05, 3.3616e-03, 9.9921e-01, 9.8508e-01,\n",
      "         9.9953e-01, 2.4268e-01, 8.3881e-04, 1.3615e-04],\n",
      "        [1.3498e-08, 2.6555e-04, 9.9726e-01, 2.5018e-11, 8.4445e-01, 9.9994e-01,\n",
      "         7.1842e-01, 2.3423e-02, 1.6068e-06, 9.0221e-01],\n",
      "        [3.7514e-10, 3.8654e-01, 9.9488e-01, 4.4646e-04, 9.9521e-01, 1.0000e+00,\n",
      "         9.9996e-01, 7.2073e-01, 9.3111e-09, 1.0495e-02],\n",
      "        [6.9396e-10, 5.3164e-05, 9.9997e-01, 1.3684e-04, 9.9995e-01, 9.9981e-01,\n",
      "         2.1440e-08, 9.9150e-01, 3.7587e-03, 9.5083e-01],\n",
      "        [1.2047e-09, 2.6438e-06, 9.6293e-06, 2.9502e-07, 9.9994e-01, 9.8675e-01,\n",
      "         9.5399e-01, 9.9978e-01, 2.4839e-04, 3.9317e-03],\n",
      "        [3.9751e-08, 3.2363e-04, 1.9810e-02, 4.2878e-06, 9.8122e-01, 9.9841e-01,\n",
      "         8.3911e-03, 9.7969e-01, 2.1394e-05, 7.5679e-02],\n",
      "        [1.2638e-08, 4.0022e-04, 3.3828e-03, 4.5751e-03, 9.8743e-01, 8.5476e-01,\n",
      "         4.5109e-01, 9.9992e-01, 2.7439e-05, 9.0684e-01],\n",
      "        [7.5324e-09, 5.8370e-05, 9.3680e-02, 9.0841e-10, 2.3524e-03, 9.9627e-01,\n",
      "         3.6450e-03, 4.2289e-01, 1.2051e-04, 9.9584e-01],\n",
      "        [2.2741e-10, 5.8854e-05, 2.2938e-03, 6.7221e-05, 9.9997e-01, 9.9998e-01,\n",
      "         1.0096e-05, 1.2828e-02, 6.7952e-05, 1.6957e-02],\n",
      "        [4.5372e-08, 1.2997e-02, 3.8978e-03, 5.6782e-06, 9.9990e-01, 9.8541e-01,\n",
      "         2.7213e-01, 9.9952e-01, 2.3013e-06, 3.1092e-03],\n",
      "        [6.3417e-08, 7.2186e-01, 5.6440e-06, 6.5630e-06, 9.9710e-01, 8.5131e-01,\n",
      "         4.2878e-02, 7.1369e-01, 1.7129e-03, 2.9499e-02],\n",
      "        [2.0250e-08, 5.9215e-02, 1.0162e-01, 7.0343e-04, 9.6635e-01, 9.7943e-01,\n",
      "         3.6177e-04, 9.9981e-01, 2.1475e-08, 1.4493e-01],\n",
      "        [1.6740e-06, 7.4150e-04, 6.4650e-04, 1.0307e-07, 9.9913e-01, 1.0000e+00,\n",
      "         9.8962e-01, 4.8953e-01, 1.0381e-05, 5.4963e-03],\n",
      "        [9.3289e-07, 6.5248e-05, 1.4228e-02, 2.6357e-04, 9.9996e-01, 1.0000e+00,\n",
      "         8.7337e-01, 9.9999e-01, 3.3142e-05, 2.7917e-02],\n",
      "        [9.3415e-07, 4.2562e-05, 6.8768e-02, 3.6986e-06, 4.7706e-03, 1.0000e+00,\n",
      "         7.3886e-01, 6.7044e-02, 2.2593e-07, 2.1949e-01],\n",
      "        [8.2239e-07, 1.6151e-03, 4.0467e-05, 2.4877e-07, 1.2668e-01, 9.9729e-01,\n",
      "         1.6241e-03, 3.7280e-01, 4.4441e-07, 1.9227e-01],\n",
      "        [1.8543e-05, 5.2173e-03, 1.3110e-01, 9.8992e-01, 1.0000e+00, 9.9242e-01,\n",
      "         9.9886e-08, 4.3523e-06, 1.5784e-07, 1.2331e-02],\n",
      "        [4.8137e-05, 5.2139e-04, 3.5214e-01, 9.9975e-07, 9.9993e-01, 9.9997e-01,\n",
      "         2.8690e-05, 1.1973e-05, 1.0545e-05, 5.0349e-01],\n",
      "        [1.6738e-09, 9.9915e-01, 9.9983e-01, 3.7077e-02, 9.9763e-01, 8.9073e-01,\n",
      "         9.0121e-01, 6.0967e-06, 2.6394e-04, 8.9752e-04],\n",
      "        [1.9191e-05, 1.5748e-02, 9.9749e-01, 2.0978e-04, 9.5625e-01, 9.9174e-01,\n",
      "         8.9432e-01, 9.9968e-01, 8.5329e-11, 8.8277e-02]])\n"
     ]
    }
   ],
   "source": [
    "## Your solution\n",
    "def activation(x):\n",
    "    \"\"\" Sigmoid activation function \n",
    "    \n",
    "        Arguments\n",
    "        ---------\n",
    "        x: torch.Tensor\n",
    "    \"\"\"\n",
    "    return 1/(1+torch.exp(-x))\n",
    "  \n",
    "torch.manual_seed(7) # Set the random seed so things are predictable\n",
    "\n",
    "n_input_units = 784\n",
    "n_hidden_units = 256\n",
    "n_outputs = 10\n",
    "\n",
    "W1 = torch.randn(n_input_units, n_hidden_units)\n",
    "W2 = torch.randn(n_hidden_units, n_outputs)\n",
    "\n",
    "B1 = torch.randn(64, n_hidden_units)\n",
    "B2 = torch.randn(64, n_outputs)\n",
    "\n",
    "updated_image = images.view(64, 784)\n",
    "\n",
    "layer1_out = activation(torch.mm(updated_image, W1) + B1)\n",
    "\n",
    "# output of your network, should have shape (64,10)\n",
    "out = activation(torch.mm(layer1_out, W2) + B2)\n",
    "\n",
    "print( out )"
   ]
  },
  {
   "cell_type": "markdown",
   "metadata": {
    "colab_type": "text",
    "id": "aphdx-HZGq-T"
   },
   "source": [
    "Now we have 10 outputs for our network. We want to pass in an image to our network and get out a probability distribution over the classes that tells us the likely class(es) the image belongs to. Something that looks like this:\n",
    "<img src='assets/image_distribution.png' width=500px>\n",
    "\n",
    "Here we see that the probability for each class is roughly the same. This is representing an untrained network, it hasn't seen any data yet so it just returns a uniform distribution with equal probabilities for each class.\n",
    "\n",
    "To calculate this probability distribution, we often use the [**softmax** function](https://en.wikipedia.org/wiki/Softmax_function). Mathematically this looks like\n",
    "\n",
    "$$\n",
    "\\Large \\sigma(x_i) = \\cfrac{e^{x_i}}{\\sum_k^K{e^{x_k}}}\n",
    "$$\n",
    "\n",
    "What this does is squish each input $x_i$ between 0 and 1 and normalizes the values to give you a proper probability distribution where the probabilites sum up to one.\n",
    "\n",
    "> **Exercise:** Implement a function `softmax` that performs the softmax calculation and returns probability distributions for each example in the batch. Note that you'll need to pay attention to the shapes when doing this. If you have a tensor `a` with shape `(64, 10)` and a tensor `b` with shape `(64,)`, doing `a/b` will give you an error because PyTorch will try to do the division across the columns (called broadcasting) but you'll get a size mismatch. The way to think about this is for each of the 64 examples, you only want to divide by one value, the sum in the denominator. So you need `b` to have a shape of `(64, 1)`. This way PyTorch will divide the 10 values in each row of `a` by the one value in each row of `b`. Pay attention to how you take the sum as well. You'll need to define the `dim` keyword in `torch.sum`. Setting `dim=0` takes the sum across the rows while `dim=1` takes the sum across the columns."
   ]
  },
  {
   "cell_type": "code",
   "execution_count": 32,
   "metadata": {
    "colab": {
     "base_uri": "https://localhost:8080/",
     "height": 173
    },
    "colab_type": "code",
    "executionInfo": {
     "elapsed": 186,
     "status": "ok",
     "timestamp": 1559865982029,
     "user": {
      "displayName": "Michael S",
      "photoUrl": "",
      "userId": "16946586469848964976"
     },
     "user_tz": 300
    },
    "id": "NtLIZreTGq-X",
    "outputId": "44758194-93a7-4fe7-b031-932a321215fd"
   },
   "outputs": [
    {
     "name": "stdout",
     "output_type": "stream",
     "text": [
      "torch.Size([64, 10])\n",
      "tensor([1.0000, 1.0000, 1.0000, 1.0000, 1.0000, 1.0000, 1.0000, 1.0000, 1.0000,\n",
      "        1.0000, 1.0000, 1.0000, 1.0000, 1.0000, 1.0000, 1.0000, 1.0000, 1.0000,\n",
      "        1.0000, 1.0000, 1.0000, 1.0000, 1.0000, 1.0000, 1.0000, 1.0000, 1.0000,\n",
      "        1.0000, 1.0000, 1.0000, 1.0000, 1.0000, 1.0000, 1.0000, 1.0000, 1.0000,\n",
      "        1.0000, 1.0000, 1.0000, 1.0000, 1.0000, 1.0000, 1.0000, 1.0000, 1.0000,\n",
      "        1.0000, 1.0000, 1.0000, 1.0000, 1.0000, 1.0000, 1.0000, 1.0000, 1.0000,\n",
      "        1.0000, 1.0000, 1.0000, 1.0000, 1.0000, 1.0000, 1.0000, 1.0000, 1.0000,\n",
      "        1.0000])\n"
     ]
    }
   ],
   "source": [
    "def softmax(x):\n",
    "    ## TODO: Implement the softmax function here\n",
    "    return torch.exp(x) / torch.sum(torch.exp(x), dim=1).view(-1,1)\n",
    "\n",
    "# Here, out should be the output of the network in the previous excercise with shape (64,10)\n",
    "probabilities = softmax(out)\n",
    "\n",
    "# Does it have the right shape? Should be (64, 10)\n",
    "print(probabilities.shape)\n",
    "# Does it sum to 1?\n",
    "print(probabilities.sum(dim=1))"
   ]
  },
  {
   "cell_type": "markdown",
   "metadata": {
    "colab_type": "text",
    "id": "dgW5odpgGq-d"
   },
   "source": [
    "## Building networks with PyTorch\n",
    "\n",
    "PyTorch provides a module `nn` that makes building networks much simpler. Here I'll show you how to build the same one as above with 784 inputs, 256 hidden units, 10 output units and a softmax output."
   ]
  },
  {
   "cell_type": "code",
   "execution_count": 0,
   "metadata": {
    "colab": {},
    "colab_type": "code",
    "id": "8ArdGl0VGq-f"
   },
   "outputs": [],
   "source": [
    "from torch import nn"
   ]
  },
  {
   "cell_type": "code",
   "execution_count": 0,
   "metadata": {
    "colab": {},
    "colab_type": "code",
    "id": "S2UyEKrHGq-p"
   },
   "outputs": [],
   "source": [
    "class Network(nn.Module):\n",
    "    def __init__(self):\n",
    "        super().__init__()\n",
    "        \n",
    "        # Inputs to hidden layer linear transformation\n",
    "        self.hidden = nn.Linear(784, 256)\n",
    "        # Output layer, 10 units - one for each digit\n",
    "        self.output = nn.Linear(256, 10)\n",
    "        \n",
    "        # Define sigmoid activation and softmax output \n",
    "        self.sigmoid = nn.Sigmoid()\n",
    "        self.softmax = nn.Softmax(dim=1)\n",
    "        \n",
    "    def forward(self, x):\n",
    "        # Pass the input tensor through each of our operations\n",
    "        x = self.hidden(x)\n",
    "        x = self.sigmoid(x)\n",
    "        x = self.output(x)\n",
    "        x = self.softmax(x)\n",
    "        \n",
    "        return x"
   ]
  },
  {
   "cell_type": "markdown",
   "metadata": {
    "colab_type": "text",
    "id": "2AYcE5R1Gq-v"
   },
   "source": [
    "Let's go through this bit by bit.\n",
    "\n",
    "```python\n",
    "class Network(nn.Module):\n",
    "```\n",
    "\n",
    "Here we're inheriting from `nn.Module`. Combined with `super().__init__()` this creates a class that tracks the architecture and provides a lot of useful methods and attributes. It is mandatory to inherit from `nn.Module` when you're creating a class for your network. The name of the class itself can be anything.\n",
    "\n",
    "```python\n",
    "self.hidden = nn.Linear(784, 256)\n",
    "```\n",
    "\n",
    "This line creates a module for a linear transformation, $x\\mathbf{W} + b$, with 784 inputs and 256 outputs and assigns it to `self.hidden`. The module automatically creates the weight and bias tensors which we'll use in the `forward` method. You can access the weight and bias tensors once the network (`net`) is created with `net.hidden.weight` and `net.hidden.bias`.\n",
    "\n",
    "```python\n",
    "self.output = nn.Linear(256, 10)\n",
    "```\n",
    "\n",
    "Similarly, this creates another linear transformation with 256 inputs and 10 outputs.\n",
    "\n",
    "```python\n",
    "self.sigmoid = nn.Sigmoid()\n",
    "self.softmax = nn.Softmax(dim=1)\n",
    "```\n",
    "\n",
    "Here I defined operations for the sigmoid activation and softmax output. Setting `dim=1` in `nn.Softmax(dim=1)` calculates softmax across the columns.\n",
    "\n",
    "```python\n",
    "def forward(self, x):\n",
    "```\n",
    "\n",
    "PyTorch networks created with `nn.Module` must have a `forward` method defined. It takes in a tensor `x` and passes it through the operations you defined in the `__init__` method.\n",
    "\n",
    "```python\n",
    "x = self.hidden(x)\n",
    "x = self.sigmoid(x)\n",
    "x = self.output(x)\n",
    "x = self.softmax(x)\n",
    "```\n",
    "\n",
    "Here the input tensor `x` is passed through each operation and reassigned to `x`. We can see that the input tensor goes through the hidden layer, then a sigmoid function, then the output layer, and finally the softmax function. It doesn't matter what you name the variables here, as long as the inputs and outputs of the operations match the network architecture you want to build. The order in which you define things in the `__init__` method doesn't matter, but you'll need to sequence the operations correctly in the `forward` method.\n",
    "\n",
    "Now we can create a `Network` object."
   ]
  },
  {
   "cell_type": "code",
   "execution_count": 35,
   "metadata": {
    "colab": {
     "base_uri": "https://localhost:8080/",
     "height": 121
    },
    "colab_type": "code",
    "executionInfo": {
     "elapsed": 214,
     "status": "ok",
     "timestamp": 1559866188439,
     "user": {
      "displayName": "Michael S",
      "photoUrl": "",
      "userId": "16946586469848964976"
     },
     "user_tz": 300
    },
    "id": "op9MiOs7Gq-w",
    "outputId": "87b93196-9d50-4b3b-8799-4072b42479d0"
   },
   "outputs": [
    {
     "data": {
      "text/plain": [
       "Network(\n",
       "  (hidden): Linear(in_features=784, out_features=256, bias=True)\n",
       "  (output): Linear(in_features=256, out_features=10, bias=True)\n",
       "  (sigmoid): Sigmoid()\n",
       "  (softmax): Softmax()\n",
       ")"
      ]
     },
     "execution_count": 35,
     "metadata": {
      "tags": []
     },
     "output_type": "execute_result"
    }
   ],
   "source": [
    "# Create the network and look at it's text representation\n",
    "model = Network()\n",
    "model"
   ]
  },
  {
   "cell_type": "markdown",
   "metadata": {
    "colab_type": "text",
    "id": "SfTdfhXIGq-4"
   },
   "source": [
    "You can define the network somewhat more concisely and clearly using the `torch.nn.functional` module. This is the most common way you'll see networks defined as many operations are simple element-wise functions. We normally import this module as `F`, `import torch.nn.functional as F`."
   ]
  },
  {
   "cell_type": "code",
   "execution_count": 0,
   "metadata": {
    "colab": {},
    "colab_type": "code",
    "id": "apqX3vQJGq-6"
   },
   "outputs": [],
   "source": [
    "import torch.nn.functional as F\n",
    "\n",
    "class Network(nn.Module):\n",
    "    def __init__(self):\n",
    "        super().__init__()\n",
    "        # Inputs to hidden layer linear transformation\n",
    "        self.hidden = nn.Linear(784, 256)\n",
    "        # Output layer, 10 units - one for each digit\n",
    "        self.output = nn.Linear(256, 10)\n",
    "        \n",
    "    def forward(self, x):\n",
    "        # Hidden layer with sigmoid activation\n",
    "        x = F.sigmoid(self.hidden(x))\n",
    "        # Output layer with softmax activation\n",
    "        x = F.softmax(self.output(x), dim=1)\n",
    "        \n",
    "        return x"
   ]
  },
  {
   "cell_type": "markdown",
   "metadata": {
    "colab_type": "text",
    "id": "qy5eVMX7Gq_A"
   },
   "source": [
    "### Activation functions\n",
    "\n",
    "So far we've only been looking at the sigmoid activation function, but in general any function can be used as an activation function. The only requirement is that for a network to approximate a non-linear function, the activation functions must be non-linear. Here are a few more examples of common activation functions: Tanh (hyperbolic tangent), and ReLU (rectified linear unit).\n",
    "\n",
    "<img src=\"assets/activation.png\" width=700px>\n",
    "\n",
    "In practice, the ReLU function is used almost exclusively as the activation function for hidden layers."
   ]
  },
  {
   "cell_type": "markdown",
   "metadata": {
    "colab_type": "text",
    "id": "21UPDK_XGq_C"
   },
   "source": [
    "### Your Turn to Build a Network\n",
    "\n",
    "<img src=\"assets/mlp_mnist.png\" width=600px>\n",
    "\n",
    "> **Exercise:** Create a network with 784 input units, a hidden layer with 128 units and a ReLU activation, then a hidden layer with 64 units and a ReLU activation, and finally an output layer with a softmax activation as shown above. You can use a ReLU activation with the `nn.ReLU` module or `F.relu` function.\n",
    "\n",
    "It's good practice to name your layers by their type of network, for instance 'fc' to represent a fully-connected layer. As you code your solution, use `fc1`, `fc2`, and `fc3` as your layer names."
   ]
  },
  {
   "cell_type": "code",
   "execution_count": 0,
   "metadata": {
    "colab": {},
    "colab_type": "code",
    "id": "d-YbeqzdGq_E",
    "scrolled": true
   },
   "outputs": [],
   "source": [
    "## Your solution here\n",
    "import torch.nn.functional as F\n",
    "\n",
    "class Network(nn.Module):\n",
    "    def __init__(self):\n",
    "        super().__init__()\n",
    "        # Inputs to hidden layer 1 linear transformation\n",
    "        self.fc1 = nn.Linear(784, 128)\n",
    "        # Inputs to hidden layer 2 linear transformation\n",
    "        self.fc2 = nn.Linear(128, 64)\n",
    "        # Output layer, 10 units - one for each digit\n",
    "        self.fc3 = nn.Linear(64, 10)\n",
    "        \n",
    "    def forward(self, x):\n",
    "        # Hidden layer 1 with sigmoid activation\n",
    "        x = F.relu(self.fc1(x))\n",
    "        # Hidden layer 2 with sigmoid activation\n",
    "        x = F.relu(self.fc2(x))\n",
    "        # Output layer with softmax activation\n",
    "        x = F.softmax(self.fc3(x), dim=1)\n",
    "        \n",
    "        return x\n",
    "      \n",
    "model = Network()"
   ]
  },
  {
   "cell_type": "markdown",
   "metadata": {
    "colab_type": "text",
    "id": "6mq_8pATGq_N"
   },
   "source": [
    "### Initializing weights and biases\n",
    "\n",
    "The weights and such are automatically initialized for you, but it's possible to customize how they are initialized. The weights and biases are tensors attached to the layer you defined, you can get them with `model.fc1.weight` for instance."
   ]
  },
  {
   "cell_type": "code",
   "execution_count": 44,
   "metadata": {
    "colab": {
     "base_uri": "https://localhost:8080/",
     "height": 486
    },
    "colab_type": "code",
    "executionInfo": {
     "elapsed": 185,
     "status": "ok",
     "timestamp": 1559866629203,
     "user": {
      "displayName": "Michael S",
      "photoUrl": "",
      "userId": "16946586469848964976"
     },
     "user_tz": 300
    },
    "id": "3d6vedsdGq_P",
    "outputId": "47b4dce8-17ad-4e89-c301-7104b0fcb218"
   },
   "outputs": [
    {
     "name": "stdout",
     "output_type": "stream",
     "text": [
      "Parameter containing:\n",
      "tensor([[ 0.0356,  0.0312, -0.0212,  ...,  0.0232, -0.0316,  0.0070],\n",
      "        [ 0.0308, -0.0293,  0.0218,  ...,  0.0216, -0.0050,  0.0235],\n",
      "        [ 0.0274, -0.0133, -0.0248,  ...,  0.0321, -0.0132,  0.0022],\n",
      "        ...,\n",
      "        [ 0.0115, -0.0194, -0.0126,  ...,  0.0165, -0.0295, -0.0343],\n",
      "        [-0.0037,  0.0167,  0.0355,  ...,  0.0107, -0.0312, -0.0299],\n",
      "        [-0.0110,  0.0295, -0.0218,  ...,  0.0107,  0.0212, -0.0156]],\n",
      "       requires_grad=True)\n",
      "Parameter containing:\n",
      "tensor([-0.0137,  0.0097,  0.0321,  0.0270, -0.0350, -0.0253,  0.0298,  0.0335,\n",
      "        -0.0014, -0.0244,  0.0288, -0.0010, -0.0005,  0.0299,  0.0336, -0.0026,\n",
      "        -0.0170, -0.0122, -0.0050,  0.0077,  0.0062,  0.0086,  0.0065,  0.0109,\n",
      "        -0.0207, -0.0085,  0.0117,  0.0285, -0.0229,  0.0282,  0.0195, -0.0221,\n",
      "        -0.0147,  0.0115,  0.0061,  0.0199, -0.0330,  0.0159, -0.0121, -0.0174,\n",
      "         0.0280, -0.0048, -0.0285,  0.0163, -0.0209, -0.0198,  0.0233,  0.0238,\n",
      "        -0.0166,  0.0320,  0.0244, -0.0065,  0.0293,  0.0244, -0.0207, -0.0279,\n",
      "         0.0205, -0.0320, -0.0330,  0.0075,  0.0018,  0.0197, -0.0170,  0.0346,\n",
      "         0.0248, -0.0275,  0.0164, -0.0346,  0.0080, -0.0287,  0.0319, -0.0284,\n",
      "         0.0281, -0.0133,  0.0149,  0.0227, -0.0102,  0.0066,  0.0060, -0.0232,\n",
      "         0.0072, -0.0343, -0.0028, -0.0087, -0.0342,  0.0200,  0.0239, -0.0349,\n",
      "        -0.0281, -0.0175,  0.0278,  0.0259,  0.0353, -0.0066, -0.0301, -0.0174,\n",
      "         0.0015,  0.0059, -0.0199, -0.0244,  0.0126,  0.0174, -0.0353, -0.0174,\n",
      "         0.0183,  0.0245,  0.0029, -0.0164,  0.0054,  0.0125, -0.0117, -0.0078,\n",
      "         0.0003, -0.0338, -0.0166,  0.0052,  0.0037,  0.0041,  0.0033,  0.0313,\n",
      "        -0.0336,  0.0326, -0.0167, -0.0212, -0.0316, -0.0104, -0.0264,  0.0057],\n",
      "       requires_grad=True)\n"
     ]
    }
   ],
   "source": [
    "print(model.fc1.weight)\n",
    "print(model.fc1.bias)"
   ]
  },
  {
   "cell_type": "markdown",
   "metadata": {
    "colab_type": "text",
    "id": "pMqYVloxGq_U"
   },
   "source": [
    "For custom initialization, we want to modify these tensors in place. These are actually autograd *Variables*, so we need to get back the actual tensors with `model.fc1.weight.data`. Once we have the tensors, we can fill them with zeros (for biases) or random normal values."
   ]
  },
  {
   "cell_type": "code",
   "execution_count": 45,
   "metadata": {
    "colab": {
     "base_uri": "https://localhost:8080/",
     "height": 141
    },
    "colab_type": "code",
    "executionInfo": {
     "elapsed": 201,
     "status": "ok",
     "timestamp": 1559866653747,
     "user": {
      "displayName": "Michael S",
      "photoUrl": "",
      "userId": "16946586469848964976"
     },
     "user_tz": 300
    },
    "id": "_6p2S_bmGq_V",
    "outputId": "7253f348-a923-48ae-9e98-b9769a329c8b"
   },
   "outputs": [
    {
     "data": {
      "text/plain": [
       "tensor([0., 0., 0., 0., 0., 0., 0., 0., 0., 0., 0., 0., 0., 0., 0., 0., 0., 0., 0., 0., 0., 0., 0., 0.,\n",
       "        0., 0., 0., 0., 0., 0., 0., 0., 0., 0., 0., 0., 0., 0., 0., 0., 0., 0., 0., 0., 0., 0., 0., 0.,\n",
       "        0., 0., 0., 0., 0., 0., 0., 0., 0., 0., 0., 0., 0., 0., 0., 0., 0., 0., 0., 0., 0., 0., 0., 0.,\n",
       "        0., 0., 0., 0., 0., 0., 0., 0., 0., 0., 0., 0., 0., 0., 0., 0., 0., 0., 0., 0., 0., 0., 0., 0.,\n",
       "        0., 0., 0., 0., 0., 0., 0., 0., 0., 0., 0., 0., 0., 0., 0., 0., 0., 0., 0., 0., 0., 0., 0., 0.,\n",
       "        0., 0., 0., 0., 0., 0., 0., 0.])"
      ]
     },
     "execution_count": 45,
     "metadata": {
      "tags": []
     },
     "output_type": "execute_result"
    }
   ],
   "source": [
    "# Set biases to all zeros\n",
    "model.fc1.bias.data.fill_(0)"
   ]
  },
  {
   "cell_type": "code",
   "execution_count": 46,
   "metadata": {
    "colab": {
     "base_uri": "https://localhost:8080/",
     "height": 243
    },
    "colab_type": "code",
    "executionInfo": {
     "elapsed": 286,
     "status": "ok",
     "timestamp": 1559866670157,
     "user": {
      "displayName": "Michael S",
      "photoUrl": "",
      "userId": "16946586469848964976"
     },
     "user_tz": 300
    },
    "id": "jW751RDdGq_d",
    "outputId": "767b1f20-1219-4327-e75d-9bdf51142116"
   },
   "outputs": [
    {
     "data": {
      "text/plain": [
       "tensor([[-5.7027e-03, -1.1466e-02,  1.3556e-02,  ...,  1.8487e-02,\n",
       "          6.0555e-03, -1.8717e-02],\n",
       "        [ 7.9528e-03, -8.4540e-03, -1.0210e-02,  ...,  1.9069e-03,\n",
       "          1.1506e-02, -6.7175e-03],\n",
       "        [-1.0618e-02, -1.5057e-03, -3.2407e-03,  ..., -9.9560e-03,\n",
       "          4.5436e-03, -6.6892e-03],\n",
       "        ...,\n",
       "        [ 1.3137e-02, -7.0544e-04,  8.1541e-03,  ...,  4.4028e-03,\n",
       "         -1.4566e-02,  8.6634e-03],\n",
       "        [-3.7308e-03, -1.1541e-03,  2.4087e-03,  ..., -3.2328e-03,\n",
       "         -3.1212e-05, -1.7570e-04],\n",
       "        [-9.4209e-03,  4.8940e-03,  1.0310e-02,  ..., -1.6910e-02,\n",
       "          3.1365e-04,  3.4015e-03]])"
      ]
     },
     "execution_count": 46,
     "metadata": {
      "tags": []
     },
     "output_type": "execute_result"
    }
   ],
   "source": [
    "# sample from random normal with standard dev = 0.01\n",
    "model.fc1.weight.data.normal_(std=0.01)"
   ]
  },
  {
   "cell_type": "markdown",
   "metadata": {
    "colab_type": "text",
    "id": "_47W52gGGq_i"
   },
   "source": [
    "### Forward pass\n",
    "\n",
    "Now that we have a network, let's see what happens when we pass in an image."
   ]
  },
  {
   "cell_type": "code",
   "execution_count": 59,
   "metadata": {
    "colab": {
     "base_uri": "https://localhost:8080/",
     "height": 89,
     "resources": {
      "http://localhost:8080/nbextensions/google.colab/files.js": {
       "data": "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",
       "headers": [
        [
         "content-type",
         "application/javascript"
        ]
       ],
       "ok": true,
       "status": 200,
       "status_text": "OK"
      }
     }
    },
    "colab_type": "code",
    "executionInfo": {
     "elapsed": 23957,
     "status": "ok",
     "timestamp": 1559867206037,
     "user": {
      "displayName": "Michael S",
      "photoUrl": "",
      "userId": "16946586469848964976"
     },
     "user_tz": 300
    },
    "id": "tHEPRxQ2TseZ",
    "outputId": "d3033043-35fa-4208-c1d7-9f5870d04cd0",
    "scrolled": true
   },
   "outputs": [
    {
     "data": {
      "text/html": [
       "\n",
       "     <input type=\"file\" id=\"files-385fd743-c06a-4896-be5f-bb28b7abbb0f\" name=\"files[]\" multiple disabled />\n",
       "     <output id=\"result-385fd743-c06a-4896-be5f-bb28b7abbb0f\">\n",
       "      Upload widget is only available when the cell has been executed in the\n",
       "      current browser session. Please rerun this cell to enable.\n",
       "      </output>\n",
       "      <script src=\"/nbextensions/google.colab/files.js\"></script> "
      ],
      "text/plain": [
       "<IPython.core.display.HTML object>"
      ]
     },
     "metadata": {
      "tags": []
     },
     "output_type": "display_data"
    },
    {
     "name": "stdout",
     "output_type": "stream",
     "text": [
      "Saving helper_test.py to helper_test.py\n",
      "User uploaded file \"helper_test.py\" with length 2813 bytes\n"
     ]
    }
   ],
   "source": [
    "from google.colab import files\n",
    "\n",
    "uploaded = files.upload()\n",
    "\n",
    "for fn in uploaded.keys():\n",
    "  print('User uploaded file \"{name}\" with length {length} bytes'.format(\n",
    "      name=fn, length=len(uploaded[fn])))\n"
   ]
  },
  {
   "cell_type": "code",
   "execution_count": 61,
   "metadata": {
    "colab": {
     "base_uri": "https://localhost:8080/",
     "height": 34
    },
    "colab_type": "code",
    "executionInfo": {
     "elapsed": 185,
     "status": "ok",
     "timestamp": 1559867300811,
     "user": {
      "displayName": "Michael S",
      "photoUrl": "",
      "userId": "16946586469848964976"
     },
     "user_tz": 300
    },
    "id": "CiglSDPKVcNR",
    "outputId": "bf98f310-0af1-4469-8f9b-012e552b1744"
   },
   "outputs": [
    {
     "data": {
      "text/plain": [
       "<function helper_test.view_classify>"
      ]
     },
     "execution_count": 61,
     "metadata": {
      "tags": []
     },
     "output_type": "execute_result"
    }
   ],
   "source": [
    "import helper_test\n",
    "helper_test.view_classify\n"
   ]
  },
  {
   "cell_type": "code",
   "execution_count": 62,
   "metadata": {
    "colab": {
     "base_uri": "https://localhost:8080/",
     "height": 243
    },
    "colab_type": "code",
    "executionInfo": {
     "elapsed": 823,
     "status": "ok",
     "timestamp": 1559867312350,
     "user": {
      "displayName": "Michael S",
      "photoUrl": "",
      "userId": "16946586469848964976"
     },
     "user_tz": 300
    },
    "id": "vOSiU0m8Gq_j",
    "outputId": "85c2f677-15b2-4344-83d6-1e76f37d0648"
   },
   "outputs": [
    {
     "data": {
      "image/png": "[encoded data removed]",
      "text/plain": [
       "<Figure size 432x648 with 2 Axes>"
      ]
     },
     "metadata": {
      "image/png": {
       "height": 226,
       "width": 423
      },
      "tags": []
     },
     "output_type": "display_data"
    }
   ],
   "source": [
    "# Grab some data \n",
    "dataiter = iter(trainloader)\n",
    "images, labels = dataiter.next()\n",
    "\n",
    "# Resize images into a 1D vector, new shape is (batch size, color channels, image pixels) \n",
    "images.resize_(64, 1, 784)\n",
    "# or images.resize_(images.shape[0], 1, 784) to automatically get batch size\n",
    "\n",
    "# Forward pass through the network\n",
    "img_idx = 0\n",
    "ps = model.forward(images[img_idx,:])\n",
    "\n",
    "img = images[img_idx]\n",
    "helper.view_classify(img.view(1, 28, 28), ps)"
   ]
  },
  {
   "cell_type": "markdown",
   "metadata": {
    "colab_type": "text",
    "id": "HtenL3ezGq_r"
   },
   "source": [
    "As you can see above, our network has basically no idea what this digit is. It's because we haven't trained it yet, all the weights are random!\n",
    "\n",
    "### Using `nn.Sequential`\n",
    "\n",
    "PyTorch provides a convenient way to build networks like this where a tensor is passed sequentially through operations, `nn.Sequential` ([documentation](https://pytorch.org/docs/master/nn.html#torch.nn.Sequential)). Using this to build the equivalent network:"
   ]
  },
  {
   "cell_type": "code",
   "execution_count": 63,
   "metadata": {
    "colab": {
     "base_uri": "https://localhost:8080/",
     "height": 382
    },
    "colab_type": "code",
    "executionInfo": {
     "elapsed": 912,
     "status": "ok",
     "timestamp": 1559867340681,
     "user": {
      "displayName": "Michael S",
      "photoUrl": "",
      "userId": "16946586469848964976"
     },
     "user_tz": 300
    },
    "id": "tFcTRzDRGq_t",
    "outputId": "09c0210a-d7b3-4f5b-e19c-b2cde1678aa2"
   },
   "outputs": [
    {
     "name": "stdout",
     "output_type": "stream",
     "text": [
      "Sequential(\n",
      "  (0): Linear(in_features=784, out_features=128, bias=True)\n",
      "  (1): ReLU()\n",
      "  (2): Linear(in_features=128, out_features=64, bias=True)\n",
      "  (3): ReLU()\n",
      "  (4): Linear(in_features=64, out_features=10, bias=True)\n",
      "  (5): Softmax()\n",
      ")\n"
     ]
    },
    {
     "data": {
      "image/png": "[encoded data removed]",
      "text/plain": [
       "<Figure size 432x648 with 2 Axes>"
      ]
     },
     "metadata": {
      "image/png": {
       "height": 226,
       "width": 423
      },
      "tags": []
     },
     "output_type": "display_data"
    }
   ],
   "source": [
    "# Hyperparameters for our network\n",
    "input_size = 784\n",
    "hidden_sizes = [128, 64]\n",
    "output_size = 10\n",
    "\n",
    "# Build a feed-forward network\n",
    "model = nn.Sequential(nn.Linear(input_size, hidden_sizes[0]),\n",
    "                      nn.ReLU(),\n",
    "                      nn.Linear(hidden_sizes[0], hidden_sizes[1]),\n",
    "                      nn.ReLU(),\n",
    "                      nn.Linear(hidden_sizes[1], output_size),\n",
    "                      nn.Softmax(dim=1))\n",
    "print(model)\n",
    "\n",
    "# Forward pass through the network and display output\n",
    "images, labels = next(iter(trainloader))\n",
    "images.resize_(images.shape[0], 1, 784)\n",
    "ps = model.forward(images[0,:])\n",
    "helper.view_classify(images[0].view(1, 28, 28), ps)"
   ]
  },
  {
   "cell_type": "markdown",
   "metadata": {
    "colab_type": "text",
    "id": "lGdm2EnpGq_w"
   },
   "source": [
    "Here our model is the same as before: 784 input units, a hidden layer with 128 units, ReLU activation, 64 unit hidden layer, another ReLU, then the output layer with 10 units, and the softmax output.\n",
    "\n",
    "The operations are available by passing in the appropriate index. For example, if you want to get first Linear operation and look at the weights, you'd use `model[0]`."
   ]
  },
  {
   "cell_type": "code",
   "execution_count": 64,
   "metadata": {
    "colab": {
     "base_uri": "https://localhost:8080/",
     "height": 191
    },
    "colab_type": "code",
    "executionInfo": {
     "elapsed": 196,
     "status": "ok",
     "timestamp": 1559867365035,
     "user": {
      "displayName": "Michael S",
      "photoUrl": "",
      "userId": "16946586469848964976"
     },
     "user_tz": 300
    },
    "id": "Dxdprq4kGq_z",
    "outputId": "06a4b475-0349-4f29-ac47-f4321cffbd7d"
   },
   "outputs": [
    {
     "name": "stdout",
     "output_type": "stream",
     "text": [
      "Linear(in_features=784, out_features=128, bias=True)\n"
     ]
    },
    {
     "data": {
      "text/plain": [
       "Parameter containing:\n",
       "tensor([[ 0.0203, -0.0235, -0.0074,  ..., -0.0324, -0.0107,  0.0346],\n",
       "        [-0.0019, -0.0224, -0.0214,  ..., -0.0058,  0.0186, -0.0329],\n",
       "        [ 0.0030, -0.0293,  0.0040,  ..., -0.0096,  0.0106,  0.0315],\n",
       "        ...,\n",
       "        [-0.0040,  0.0133, -0.0252,  ..., -0.0030,  0.0182,  0.0156],\n",
       "        [ 0.0246,  0.0323,  0.0219,  ..., -0.0293,  0.0216, -0.0138],\n",
       "        [ 0.0067,  0.0093, -0.0146,  ...,  0.0148,  0.0201,  0.0342]],\n",
       "       requires_grad=True)"
      ]
     },
     "execution_count": 64,
     "metadata": {
      "tags": []
     },
     "output_type": "execute_result"
    }
   ],
   "source": [
    "print(model[0])\n",
    "model[0].weight"
   ]
  },
  {
   "cell_type": "markdown",
   "metadata": {
    "colab_type": "text",
    "id": "8RYBQdjvGq_4"
   },
   "source": [
    "You can also pass in an `OrderedDict` to name the individual layers and operations, instead of using incremental integers. Note that dictionary keys must be unique, so _each operation must have a different name_."
   ]
  },
  {
   "cell_type": "code",
   "execution_count": 65,
   "metadata": {
    "colab": {
     "base_uri": "https://localhost:8080/",
     "height": 156
    },
    "colab_type": "code",
    "executionInfo": {
     "elapsed": 200,
     "status": "ok",
     "timestamp": 1559867377381,
     "user": {
      "displayName": "Michael S",
      "photoUrl": "",
      "userId": "16946586469848964976"
     },
     "user_tz": 300
    },
    "id": "N4hdrgyUGq_8",
    "outputId": "502ff77c-2d3b-4b4e-a460-03ae5697d57c"
   },
   "outputs": [
    {
     "data": {
      "text/plain": [
       "Sequential(\n",
       "  (fc1): Linear(in_features=784, out_features=128, bias=True)\n",
       "  (relu1): ReLU()\n",
       "  (fc2): Linear(in_features=128, out_features=64, bias=True)\n",
       "  (relu2): ReLU()\n",
       "  (output): Linear(in_features=64, out_features=10, bias=True)\n",
       "  (softmax): Softmax()\n",
       ")"
      ]
     },
     "execution_count": 65,
     "metadata": {
      "tags": []
     },
     "output_type": "execute_result"
    }
   ],
   "source": [
    "from collections import OrderedDict\n",
    "model = nn.Sequential(OrderedDict([\n",
    "                      ('fc1', nn.Linear(input_size, hidden_sizes[0])),\n",
    "                      ('relu1', nn.ReLU()),\n",
    "                      ('fc2', nn.Linear(hidden_sizes[0], hidden_sizes[1])),\n",
    "                      ('relu2', nn.ReLU()),\n",
    "                      ('output', nn.Linear(hidden_sizes[1], output_size)),\n",
    "                      ('softmax', nn.Softmax(dim=1))]))\n",
    "model"
   ]
  },
  {
   "cell_type": "markdown",
   "metadata": {
    "colab_type": "text",
    "id": "56wJsIoNGrAA"
   },
   "source": [
    "Now you can access layers either by integer or the name"
   ]
  },
  {
   "cell_type": "code",
   "execution_count": 66,
   "metadata": {
    "colab": {
     "base_uri": "https://localhost:8080/",
     "height": 52
    },
    "colab_type": "code",
    "executionInfo": {
     "elapsed": 217,
     "status": "ok",
     "timestamp": 1559867379535,
     "user": {
      "displayName": "Michael S",
      "photoUrl": "",
      "userId": "16946586469848964976"
     },
     "user_tz": 300
    },
    "id": "H5q2p4k-GrAC",
    "outputId": "e13dfd9d-5af1-4bb6-b0bf-6526131900f6"
   },
   "outputs": [
    {
     "name": "stdout",
     "output_type": "stream",
     "text": [
      "Linear(in_features=784, out_features=128, bias=True)\n",
      "Linear(in_features=784, out_features=128, bias=True)\n"
     ]
    }
   ],
   "source": [
    "print(model[0])\n",
    "print(model.fc1)"
   ]
  },
  {
   "cell_type": "markdown",
   "metadata": {
    "colab_type": "text",
    "id": "h6Gv0M1jGrAF"
   },
   "source": [
    "In the next notebook, we'll see how we can train a neural network to accuractly predict the numbers appearing in the MNIST images."
   ]
  }
 ],
 "metadata": {
  "colab": {
   "collapsed_sections": [],
   "name": "Part 2 - Neural Networks in PyTorch (Exercises).ipynb",
   "provenance": [],
   "toc_visible": true,
   "version": "0.3.2"
  },
  "kernelspec": {
   "display_name": "Python 3",
   "language": "python",
   "name": "python3"
  },
  "language_info": {
   "codemirror_mode": {
    "name": "ipython",
    "version": 3
   },
   "file_extension": ".py",
   "mimetype": "text/x-python",
   "name": "python",
   "nbconvert_exporter": "python",
   "pygments_lexer": "ipython3",
   "version": "3.7.3"
  }
 },
 "nbformat": 4,
 "nbformat_minor": 1
}
